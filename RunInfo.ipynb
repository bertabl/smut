{
 "cells": [
  {
   "cell_type": "code",
   "execution_count": 1,
   "id": "cc4c4eef",
   "metadata": {},
   "outputs": [
    {
     "name": "stdout",
     "output_type": "stream",
     "text": [
      "Welcome to JupyROOT 6.26/08\n"
     ]
    }
   ],
   "source": [
    "import ROOT\n",
    "from ROOT import gStyle\n",
    "gStyle.SetOptStat(0)"
   ]
  },
  {
   "cell_type": "code",
   "execution_count": 2,
   "id": "2f4eefcf",
   "metadata": {},
   "outputs": [],
   "source": [
    "from ROOT import TH1D,TH2D,TFile,TTree,TCanvas,TPad"
   ]
  },
  {
   "cell_type": "code",
   "execution_count": 3,
   "id": "a22879fd",
   "metadata": {},
   "outputs": [
    {
     "data": {
      "text/plain": [
       "774419"
      ]
     },
     "execution_count": 3,
     "metadata": {},
     "output_type": "execute_result"
    },
    {
     "name": "stdout",
     "output_type": "stream",
     "text": [
      "======> EVENT:10\n",
      " Channel         = 1\n",
      " Timestamp       = 1123089888000\n",
      " Board           = 0\n",
      " Energy          = 2857\n",
      " EnergyShort     = 591\n",
      " Flags           = 16384\n"
     ]
    }
   ],
   "source": [
    "fFile = TFile('/Users/bertabeltran/muon_data/data/DShaped/DShapedHoles_NewBC408Scintillator_SiPMV3_6Chn0_5Chn1/FILTERED/SDataF_DShapedHoles_NewBC408Scintillator_SiPMV3_6Chn0_5Chn1.root', \"READ\") \n",
    "fTree = fFile.Get('Data_F')\n",
    "fTree.Show(10)\n",
    "fTree.GetEntries()"
   ]
  },
  {
   "cell_type": "code",
   "execution_count": 4,
   "id": "3c6f3a53",
   "metadata": {
    "scrolled": true
   },
   "outputs": [
    {
     "data": {
      "text/plain": [
       "200"
      ]
     },
     "execution_count": 4,
     "metadata": {},
     "output_type": "execute_result"
    },
    {
     "name": "stdout",
     "output_type": "stream",
     "text": [
      "************************************************************\n",
      "*    Row   *   Channel * Timestamp *     Board *     Flags *\n",
      "************************************************************\n",
      "*   700000 *         0 * 8.177e+16 *         0 *     16384 *\n",
      "*   700001 *         1 * 8.177e+16 *         0 *     16512 *\n",
      "*   700002 *         0 * 8.177e+16 *         0 *     16384 *\n",
      "*   700003 *         0 * 8.177e+16 *         0 *     16384 *\n",
      "*   700004 *         1 * 8.177e+16 *         0 *     16384 *\n",
      "*   700005 *         0 * 8.177e+16 *         0 *     16384 *\n",
      "*   700006 *         1 * 8.177e+16 *         0 *     16384 *\n",
      "*   700007 *         0 * 8.177e+16 *         0 *     16384 *\n",
      "*   700008 *         1 * 8.177e+16 *         0 *     16384 *\n",
      "*   700009 *         0 * 8.177e+16 *         0 *     16384 *\n",
      "*   700010 *         1 * 8.177e+16 *         0 *     16384 *\n",
      "*   700011 *         0 * 8.177e+16 *         0 *     16384 *\n",
      "*   700012 *         1 * 8.177e+16 *         0 *     16384 *\n",
      "*   700013 *         0 * 8.177e+16 *         0 *     16384 *\n",
      "*   700014 *         1 * 8.177e+16 *         0 *     16384 *\n",
      "*   700015 *         1 * 8.177e+16 *         0 *     16384 *\n",
      "*   700016 *         0 * 8.177e+16 *         0 *     16384 *\n",
      "*   700017 *         0 * 8.177e+16 *         0 *     16384 *\n",
      "*   700018 *         1 * 8.177e+16 *         0 *     16384 *\n",
      "*   700019 *         0 * 8.177e+16 *         0 *     16512 *\n",
      "*   700020 *         1 * 8.177e+16 *         0 *     16384 *\n",
      "*   700021 *         0 * 8.177e+16 *         0 *     16384 *\n",
      "*   700022 *         1 * 8.177e+16 *         0 *     16384 *\n",
      "*   700023 *         0 * 8.177e+16 *         0 *     16384 *\n",
      "*   700024 *         1 * 8.177e+16 *         0 *     16384 *\n",
      "*   700025 *         0 * 8.178e+16 *         0 *     16384 *\n",
      "*   700026 *         1 * 8.178e+16 *         0 *     16384 *\n",
      "*   700027 *         1 * 8.178e+16 *         0 *     16384 *\n",
      "*   700028 *         0 * 8.178e+16 *         0 *     16384 *\n",
      "*   700029 *         1 * 8.178e+16 *         0 *     16384 *\n",
      "*   700030 *         0 * 8.178e+16 *         0 *     16384 *\n",
      "*   700031 *         0 * 8.178e+16 *         0 *     16384 *\n",
      "*   700032 *         1 * 8.178e+16 *         0 *     16384 *\n",
      "*   700033 *         1 * 8.178e+16 *         0 *     16512 *\n",
      "*   700034 *         0 * 8.178e+16 *         0 *     16384 *\n",
      "*   700035 *         0 * 8.178e+16 *         0 *     16384 *\n",
      "*   700036 *         1 * 8.178e+16 *         0 *     16384 *\n",
      "*   700037 *         1 * 8.178e+16 *         0 *     16384 *\n",
      "*   700038 *         0 * 8.178e+16 *         0 *     16384 *\n",
      "*   700039 *         1 * 8.178e+16 *         0 *     16384 *\n",
      "*   700040 *         0 * 8.178e+16 *         0 *     16384 *\n",
      "*   700041 *         0 * 8.178e+16 *         0 *     16384 *\n",
      "*   700042 *         1 * 8.178e+16 *         0 *     16384 *\n",
      "*   700043 *         0 * 8.178e+16 *         0 *     16384 *\n",
      "*   700044 *         1 * 8.178e+16 *         0 *     16384 *\n",
      "*   700045 *         1 * 8.178e+16 *         0 *     16384 *\n",
      "*   700046 *         0 * 8.178e+16 *         0 *     16384 *\n",
      "*   700047 *         1 * 8.178e+16 *         0 *     16384 *\n",
      "*   700048 *         0 * 8.178e+16 *         0 *     16384 *\n",
      "*   700049 *         0 * 8.178e+16 *         0 *     16384 *\n",
      "*   700050 *         1 * 8.178e+16 *         0 *     16384 *\n",
      "*   700051 *         1 * 8.178e+16 *         0 *     16384 *\n",
      "*   700052 *         0 * 8.178e+16 *         0 *     16384 *\n",
      "*   700053 *         0 * 8.178e+16 *         0 *     16384 *\n",
      "*   700054 *         1 * 8.178e+16 *         0 *     16384 *\n",
      "*   700055 *         0 * 8.178e+16 *         0 *     16384 *\n",
      "*   700056 *         1 * 8.178e+16 *         0 *     16384 *\n",
      "*   700057 *         0 * 8.178e+16 *         0 *     16384 *\n",
      "*   700058 *         1 * 8.178e+16 *         0 *     16384 *\n",
      "*   700059 *         0 * 8.178e+16 *         0 *     16384 *\n",
      "*   700060 *         1 * 8.178e+16 *         0 *     16384 *\n",
      "*   700061 *         1 * 8.178e+16 *         0 *     16384 *\n",
      "*   700062 *         0 * 8.178e+16 *         0 *     16384 *\n",
      "*   700063 *         1 * 8.178e+16 *         0 *     16384 *\n",
      "*   700064 *         0 * 8.178e+16 *         0 *     16384 *\n",
      "*   700065 *         0 * 8.178e+16 *         0 *     16384 *\n",
      "*   700066 *         1 * 8.178e+16 *         0 *     16384 *\n",
      "*   700067 *         1 * 8.178e+16 *         0 *     16512 *\n",
      "*   700068 *         0 * 8.178e+16 *         0 *     16384 *\n",
      "*   700069 *         0 * 8.178e+16 *         0 *     16384 *\n",
      "*   700070 *         1 * 8.178e+16 *         0 *     16384 *\n",
      "*   700071 *         0 * 8.178e+16 *         0 *     16384 *\n",
      "*   700072 *         1 * 8.178e+16 *         0 *     16384 *\n",
      "*   700073 *         0 * 8.178e+16 *         0 *     16384 *\n",
      "*   700074 *         1 * 8.178e+16 *         0 *     16384 *\n",
      "*   700075 *         0 * 8.178e+16 *         0 *     16384 *\n",
      "*   700076 *         1 * 8.178e+16 *         0 *     16384 *\n",
      "*   700077 *         0 * 8.178e+16 *         0 *     16384 *\n",
      "*   700078 *         1 * 8.178e+16 *         0 *     16384 *\n",
      "*   700079 *         1 * 8.178e+16 *         0 *     16384 *\n",
      "*   700080 *         0 * 8.178e+16 *         0 *     16384 *\n",
      "*   700081 *         0 * 8.178e+16 *         0 *     16384 *\n",
      "*   700082 *         1 * 8.178e+16 *         0 *     16384 *\n",
      "*   700083 *         0 * 8.178e+16 *         0 *     16512 *\n",
      "*   700084 *         1 * 8.178e+16 *         0 *     16384 *\n",
      "*   700085 *         0 * 8.178e+16 *         0 *     16384 *\n",
      "*   700086 *         1 * 8.178e+16 *         0 *     16384 *\n",
      "*   700087 *         0 * 8.178e+16 *         0 *     16384 *\n",
      "*   700088 *         1 * 8.178e+16 *         0 *     16384 *\n",
      "*   700089 *         1 * 8.178e+16 *         0 *     16384 *\n",
      "*   700090 *         0 * 8.178e+16 *         0 *     16384 *\n",
      "*   700091 *         0 * 8.178e+16 *         0 *     16384 *\n",
      "*   700092 *         1 * 8.178e+16 *         0 *     16384 *\n",
      "*   700093 *         0 * 8.178e+16 *         0 *     16384 *\n",
      "*   700094 *         1 * 8.178e+16 *         0 *     16384 *\n",
      "*   700095 *         1 * 8.178e+16 *         0 *     16384 *\n",
      "*   700096 *         0 * 8.178e+16 *         0 *     16384 *\n",
      "*   700097 *         0 * 8.178e+16 *         0 *     16384 *\n",
      "*   700098 *         1 * 8.178e+16 *         0 *     16384 *\n",
      "*   700099 *         0 * 8.178e+16 *         0 *     16384 *\n",
      "*   700100 *         1 * 8.178e+16 *         0 *     16384 *\n",
      "*   700101 *         0 * 8.178e+16 *         0 *     16384 *\n",
      "*   700102 *         1 * 8.178e+16 *         0 *     16384 *\n",
      "*   700103 *         1 * 8.178e+16 *         0 *     16384 *\n",
      "*   700104 *         0 * 8.178e+16 *         0 *     16384 *\n",
      "*   700105 *         0 * 8.178e+16 *         0 *     16384 *\n",
      "*   700106 *         1 * 8.178e+16 *         0 *     16384 *\n",
      "*   700107 *         1 * 8.178e+16 *         0 *     16384 *\n",
      "*   700108 *         0 * 8.178e+16 *         0 *     16384 *\n",
      "*   700109 *         0 * 8.178e+16 *         0 *     16384 *\n",
      "*   700110 *         1 * 8.178e+16 *         0 *     16384 *\n",
      "*   700111 *         1 * 8.178e+16 *         0 *     16384 *\n",
      "*   700112 *         0 * 8.178e+16 *         0 *     16384 *\n",
      "*   700113 *         1 * 8.178e+16 *         0 *     16384 *\n",
      "*   700114 *         0 * 8.178e+16 *         0 *     16384 *\n",
      "*   700115 *         0 * 8.178e+16 *         0 *     16384 *\n",
      "*   700116 *         1 * 8.178e+16 *         0 *     16384 *\n",
      "*   700117 *         1 * 8.178e+16 *         0 *     16384 *\n",
      "*   700118 *         0 * 8.178e+16 *         0 *     16384 *\n",
      "*   700119 *         1 * 8.179e+16 *         0 *     16512 *\n",
      "*   700120 *         0 * 8.179e+16 *         0 *     16384 *\n",
      "*   700121 *         1 * 8.179e+16 *         0 *     16384 *\n",
      "*   700122 *         0 * 8.179e+16 *         0 *     16384 *\n",
      "*   700123 *         1 * 8.179e+16 *         0 *     16384 *\n",
      "*   700124 *         0 * 8.179e+16 *         0 *     16384 *\n",
      "*   700125 *         0 * 8.179e+16 *         0 *     16384 *\n",
      "*   700126 *         1 * 8.179e+16 *         0 *     16384 *\n",
      "*   700127 *         0 * 8.179e+16 *         0 *     16384 *\n",
      "*   700128 *         1 * 8.179e+16 *         0 *     16384 *\n",
      "*   700129 *         1 * 8.179e+16 *         0 *     16384 *\n",
      "*   700130 *         0 * 8.179e+16 *         0 *     16384 *\n",
      "*   700131 *         0 * 8.179e+16 *         0 *     16384 *\n",
      "*   700132 *         1 * 8.179e+16 *         0 *     16384 *\n",
      "*   700133 *         0 * 8.179e+16 *         0 *     16384 *\n",
      "*   700134 *         1 * 8.179e+16 *         0 *     16384 *\n",
      "*   700135 *         1 * 8.179e+16 *         0 *     16512 *\n",
      "*   700136 *         0 * 8.179e+16 *         0 *     16512 *\n",
      "*   700137 *         1 * 8.179e+16 *         0 *     16512 *\n",
      "*   700138 *         0 * 8.179e+16 *         0 *     16384 *\n",
      "*   700139 *         1 * 8.179e+16 *         0 *     16384 *\n",
      "*   700140 *         0 * 8.179e+16 *         0 *     16384 *\n",
      "*   700141 *         1 * 8.179e+16 *         0 *     16384 *\n",
      "*   700142 *         0 * 8.179e+16 *         0 *     16384 *\n",
      "*   700143 *         0 * 8.179e+16 *         0 *     16384 *\n",
      "*   700144 *         1 * 8.179e+16 *         0 *     16384 *\n",
      "*   700145 *         0 * 8.179e+16 *         0 *     16384 *\n",
      "*   700146 *         1 * 8.179e+16 *         0 *     16384 *\n",
      "*   700147 *         1 * 8.179e+16 *         0 *     16384 *\n",
      "*   700148 *         0 * 8.179e+16 *         0 *     16384 *\n",
      "*   700149 *         0 * 8.179e+16 *         0 *     16384 *\n",
      "*   700150 *         1 * 8.179e+16 *         0 *     16384 *\n",
      "*   700151 *         0 * 8.179e+16 *         0 *     16384 *\n",
      "*   700152 *         1 * 8.179e+16 *         0 *     16384 *\n",
      "*   700153 *         1 * 8.179e+16 *         0 *     16384 *\n",
      "*   700154 *         0 * 8.179e+16 *         0 *     16384 *\n",
      "*   700155 *         0 * 8.179e+16 *         0 *     16384 *\n",
      "*   700156 *         1 * 8.179e+16 *         0 *     16384 *\n",
      "*   700157 *         1 * 8.179e+16 *         0 *     16384 *\n",
      "*   700158 *         0 * 8.179e+16 *         0 *     16384 *\n",
      "*   700159 *         1 * 8.179e+16 *         0 *     16384 *\n",
      "*   700160 *         0 * 8.179e+16 *         0 *     16384 *\n",
      "*   700161 *         0 * 8.179e+16 *         0 *     16384 *\n",
      "*   700162 *         1 * 8.179e+16 *         0 *     16384 *\n",
      "*   700163 *         0 * 8.179e+16 *         0 *     16384 *\n",
      "*   700164 *         1 * 8.179e+16 *         0 *     16384 *\n",
      "*   700165 *         0 * 8.179e+16 *         0 *     16384 *\n",
      "*   700166 *         1 * 8.179e+16 *         0 *     16384 *\n",
      "*   700167 *         0 * 8.179e+16 *         0 *     16384 *\n",
      "*   700168 *         1 * 8.179e+16 *         0 *     16384 *\n",
      "*   700169 *         0 * 8.179e+16 *         0 *     16384 *\n",
      "*   700170 *         1 * 8.179e+16 *         0 *     16384 *\n",
      "*   700171 *         0 * 8.179e+16 *         0 *     16384 *\n",
      "*   700172 *         1 * 8.179e+16 *         0 *     16384 *\n",
      "*   700173 *         0 * 8.179e+16 *         0 *     16384 *\n",
      "*   700174 *         1 * 8.179e+16 *         0 *     16384 *\n",
      "*   700175 *         0 * 8.179e+16 *         0 *     16384 *\n",
      "*   700176 *         1 * 8.179e+16 *         0 *     16384 *\n",
      "*   700177 *         0 * 8.179e+16 *         0 *     16384 *\n",
      "*   700178 *         1 * 8.179e+16 *         0 *     16384 *\n",
      "*   700179 *         1 * 8.179e+16 *         0 *     16512 *\n",
      "*   700180 *         0 * 8.179e+16 *         0 *     16384 *\n",
      "*   700181 *         0 * 8.179e+16 *         0 *     16384 *\n",
      "*   700182 *         1 * 8.179e+16 *         0 *     16384 *\n",
      "*   700183 *         0 * 8.179e+16 *         0 *     16384 *\n",
      "*   700184 *         1 * 8.179e+16 *         0 *     16384 *\n",
      "*   700185 *         0 * 8.179e+16 *         0 *     16384 *\n",
      "*   700186 *         1 * 8.179e+16 *         0 *     16384 *\n",
      "*   700187 *         0 * 8.179e+16 *         0 *     16384 *\n",
      "*   700188 *         1 * 8.179e+16 *         0 *     16384 *\n",
      "*   700189 *         0 * 8.179e+16 *         0 *     16384 *\n",
      "*   700190 *         1 * 8.179e+16 *         0 *     16384 *\n",
      "*   700191 *         1 * 8.179e+16 *         0 *     16384 *\n",
      "*   700192 *         0 * 8.179e+16 *         0 *     16384 *\n",
      "*   700193 *         0 * 8.179e+16 *         0 *     16384 *\n",
      "*   700194 *         1 * 8.179e+16 *         0 *     16384 *\n",
      "*   700195 *         1 * 8.179e+16 *         0 *     16384 *\n",
      "*   700196 *         0 * 8.179e+16 *         0 *     16384 *\n",
      "*   700197 *         1 * 8.179e+16 *         0 *     16384 *\n",
      "*   700198 *         0 * 8.179e+16 *         0 *     16384 *\n",
      "*   700199 *         0 * 8.179e+16 *         0 *     16384 *\n",
      "************************************************************\n"
     ]
    },
    {
     "name": "stderr",
     "output_type": "stream",
     "text": [
      "Type <CR> to continue or q to quit ==> Type <CR> to continue or q to quit ==> Type <CR> to continue or q to quit ==> Type <CR> to continue or q to quit ==> Type <CR> to continue or q to quit ==> Type <CR> to continue or q to quit ==> Type <CR> to continue or q to quit ==> Type <CR> to continue or q to quit ==> "
     ]
    }
   ],
   "source": [
    "fTree.Scan(\"Channel:Timestamp:Board:Flags\", \"\", \"\", 200,700000)"
   ]
  },
  {
   "cell_type": "code",
   "execution_count": 5,
   "id": "1668a4b0",
   "metadata": {},
   "outputs": [
    {
     "name": "stdout",
     "output_type": "stream",
     "text": [
      "numer of events 774419\n"
     ]
    }
   ],
   "source": [
    "nEntries = fTree.GetEntries()\n",
    "print('numer of events',nEntries)\n",
    "#declare variables that we are going to fill \n",
    "TimeDiff=0\n",
    "EnergyDiff=0\n",
    "Channel_odd=0\n",
    "Timestamp_off=0;\n",
    "Channel_even=0\n",
    "Timestamp_even=0;\n",
    "Energy_odd=0;\n",
    "Energy_even=0;\n",
    "TDiff_list = []\n",
    "EDiff_list = []\n",
    "ECh0_list =[]\n",
    "ECh1_list =[]\n",
    "#loop over the three \n",
    "for i in range(0, nEntries): \n",
    "#for i in range(2, 100): \n",
    "    fTree.GetEntry(i) \n",
    "    #if entry is even we are the begining of the event, just store time and channel\n",
    "    if (i % 2) == 0: \n",
    "        Channel_even=fTree.Channel\n",
    "        Timestamp_even=fTree.Timestamp\n",
    "        Energy_even=fTree.Energy\n",
    "        if Channel_even==0:\n",
    "            ECh0_list.append(Energy_even)\n",
    "        else:\n",
    "            ECh1_list.append(Energy_even)\n",
    "    #if entry is odd we are the end of the event, store time and channel and calculate the time and energy difference \n",
    "    else:\n",
    "        Channel_odd=fTree.Channel\n",
    "        Timestamp_odd=fTree.Timestamp\n",
    "        Energy_odd=fTree.Energy\n",
    "        # I want to always do deltaT=chan0-Chan1 \n",
    "        if Channel_odd==0 :\n",
    "            TimeDiff=(Timestamp_odd-Timestamp_even)*10**(-3)#Convert picoseconds to nano\n",
    "            EnergyDiff=Energy_odd-Energy_even\n",
    "            ECh0_list.append(Energy_odd)\n",
    "        else:\n",
    "            TimeDiff=(Timestamp_even-Timestamp_odd)*10**(-3)\n",
    "            EnergyDiff=Energy_even-Energy_odd\n",
    "            ECh1_list.append(Energy_odd)           \n",
    "        EDiff_list.append(EnergyDiff)\n",
    "        TDiff_list.append(TimeDiff)\n",
    "        "
   ]
  },
  {
   "cell_type": "code",
   "execution_count": 6,
   "id": "c4580100",
   "metadata": {},
   "outputs": [
    {
     "data": {
      "text/plain": [
       "387209"
      ]
     },
     "execution_count": 6,
     "metadata": {},
     "output_type": "execute_result"
    }
   ],
   "source": [
    "len(TDiff_list)"
   ]
  },
  {
   "cell_type": "code",
   "execution_count": 7,
   "id": "0bc45400",
   "metadata": {},
   "outputs": [
    {
     "data": {
      "text/plain": [
       "389758"
      ]
     },
     "execution_count": 7,
     "metadata": {},
     "output_type": "execute_result"
    }
   ],
   "source": [
    "len(ECh0_list)"
   ]
  },
  {
   "cell_type": "code",
   "execution_count": 8,
   "id": "260373be",
   "metadata": {},
   "outputs": [
    {
     "data": {
      "text/plain": [
       "384661"
      ]
     },
     "execution_count": 8,
     "metadata": {},
     "output_type": "execute_result"
    }
   ],
   "source": [
    "len(ECh1_list)"
   ]
  },
  {
   "cell_type": "code",
   "execution_count": 9,
   "id": "77266dfc",
   "metadata": {},
   "outputs": [
    {
     "ename": "ValueError",
     "evalue": "x and y must have the same length.",
     "output_type": "error",
     "traceback": [
      "\u001b[0;31m---------------------------------------------------------------------------\u001b[0m",
      "\u001b[0;31mValueError\u001b[0m                                Traceback (most recent call last)",
      "Cell \u001b[0;32mIn[9], line 57\u001b[0m\n\u001b[1;32m     55\u001b[0m ax2\u001b[38;5;241m.\u001b[39mset_xlabel(\u001b[38;5;124m\"\u001b[39m\u001b[38;5;124mEnergy (ADC counts)\u001b[39m\u001b[38;5;124m\"\u001b[39m)\n\u001b[1;32m     56\u001b[0m ax2\u001b[38;5;241m.\u001b[39mset_ylabel(\u001b[38;5;124m\"\u001b[39m\u001b[38;5;124mDeta T 9ns)\u001b[39m\u001b[38;5;124m\"\u001b[39m)\n\u001b[0;32m---> 57\u001b[0m \u001b[43max2\u001b[49m\u001b[38;5;241;43m.\u001b[39;49m\u001b[43mhist2d\u001b[49m\u001b[43m(\u001b[49m\u001b[43mECh0_list\u001b[49m\u001b[43m,\u001b[49m\u001b[43m \u001b[49m\u001b[43mTDiff_list\u001b[49m\u001b[43m,\u001b[49m\u001b[43m \u001b[49m\u001b[43mbins\u001b[49m\u001b[43m \u001b[49m\u001b[38;5;241;43m=\u001b[39;49m\u001b[43m \u001b[49m\u001b[43mbin_num\u001b[49m\u001b[43m,\u001b[49m\u001b[43m \u001b[49m\u001b[38;5;28;43mrange\u001b[39;49m\u001b[38;5;241;43m=\u001b[39;49m\u001b[43mnp\u001b[49m\u001b[38;5;241;43m.\u001b[39;49m\u001b[43marray\u001b[49m\u001b[43m(\u001b[49m\u001b[43m[\u001b[49m\u001b[43m(\u001b[49m\u001b[38;5;241;43m0\u001b[39;49m\u001b[43m,\u001b[49m\u001b[43m \u001b[49m\u001b[38;5;241;43m4000\u001b[39;49m\u001b[43m)\u001b[49m\u001b[43m,\u001b[49m\u001b[43m \u001b[49m\u001b[43m(\u001b[49m\u001b[38;5;241;43m-\u001b[39;49m\u001b[38;5;241;43m30\u001b[39;49m\u001b[43m,\u001b[49m\u001b[43m \u001b[49m\u001b[38;5;241;43m30\u001b[39;49m\u001b[43m)\u001b[49m\u001b[43m]\u001b[49m\u001b[43m)\u001b[49m\u001b[43m,\u001b[49m\u001b[43mcmap\u001b[49m\u001b[43m \u001b[49m\u001b[38;5;241;43m=\u001b[39;49m\u001b[43m \u001b[49m\u001b[38;5;124;43m'\u001b[39;49m\u001b[38;5;124;43mBuPu\u001b[39;49m\u001b[38;5;124;43m'\u001b[39;49m\u001b[43m,\u001b[49m\u001b[43mnorm\u001b[49m\u001b[43m \u001b[49m\u001b[38;5;241;43m=\u001b[39;49m\u001b[43m \u001b[49m\u001b[43mcolors\u001b[49m\u001b[38;5;241;43m.\u001b[39;49m\u001b[43mLogNorm\u001b[49m\u001b[43m(\u001b[49m\u001b[43m)\u001b[49m\u001b[43m)\u001b[49m\n\u001b[1;32m     58\u001b[0m \u001b[38;5;66;03m#plt.yscale('log')\u001b[39;00m\n\u001b[1;32m     59\u001b[0m \u001b[38;5;66;03m#plt.xscale('log')\u001b[39;00m\n\u001b[1;32m     60\u001b[0m \n\u001b[1;32m     61\u001b[0m \n\u001b[1;32m     62\u001b[0m \u001b[38;5;66;03m# plot delta T vs chan 1 energy \u001b[39;00m\n\u001b[1;32m     63\u001b[0m plt\u001b[38;5;241m.\u001b[39msca(ax3)\n",
      "File \u001b[0;32m~/anaconda3/lib/python3.10/site-packages/matplotlib/__init__.py:1442\u001b[0m, in \u001b[0;36m_preprocess_data.<locals>.inner\u001b[0;34m(ax, data, *args, **kwargs)\u001b[0m\n\u001b[1;32m   1439\u001b[0m \u001b[38;5;129m@functools\u001b[39m\u001b[38;5;241m.\u001b[39mwraps(func)\n\u001b[1;32m   1440\u001b[0m \u001b[38;5;28;01mdef\u001b[39;00m \u001b[38;5;21minner\u001b[39m(ax, \u001b[38;5;241m*\u001b[39margs, data\u001b[38;5;241m=\u001b[39m\u001b[38;5;28;01mNone\u001b[39;00m, \u001b[38;5;241m*\u001b[39m\u001b[38;5;241m*\u001b[39mkwargs):\n\u001b[1;32m   1441\u001b[0m     \u001b[38;5;28;01mif\u001b[39;00m data \u001b[38;5;129;01mis\u001b[39;00m \u001b[38;5;28;01mNone\u001b[39;00m:\n\u001b[0;32m-> 1442\u001b[0m         \u001b[38;5;28;01mreturn\u001b[39;00m \u001b[43mfunc\u001b[49m\u001b[43m(\u001b[49m\u001b[43max\u001b[49m\u001b[43m,\u001b[49m\u001b[43m \u001b[49m\u001b[38;5;241;43m*\u001b[39;49m\u001b[38;5;28;43mmap\u001b[39;49m\u001b[43m(\u001b[49m\u001b[43msanitize_sequence\u001b[49m\u001b[43m,\u001b[49m\u001b[43m \u001b[49m\u001b[43margs\u001b[49m\u001b[43m)\u001b[49m\u001b[43m,\u001b[49m\u001b[43m \u001b[49m\u001b[38;5;241;43m*\u001b[39;49m\u001b[38;5;241;43m*\u001b[39;49m\u001b[43mkwargs\u001b[49m\u001b[43m)\u001b[49m\n\u001b[1;32m   1444\u001b[0m     bound \u001b[38;5;241m=\u001b[39m new_sig\u001b[38;5;241m.\u001b[39mbind(ax, \u001b[38;5;241m*\u001b[39margs, \u001b[38;5;241m*\u001b[39m\u001b[38;5;241m*\u001b[39mkwargs)\n\u001b[1;32m   1445\u001b[0m     auto_label \u001b[38;5;241m=\u001b[39m (bound\u001b[38;5;241m.\u001b[39marguments\u001b[38;5;241m.\u001b[39mget(label_namer)\n\u001b[1;32m   1446\u001b[0m                   \u001b[38;5;129;01mor\u001b[39;00m bound\u001b[38;5;241m.\u001b[39mkwargs\u001b[38;5;241m.\u001b[39mget(label_namer))\n",
      "File \u001b[0;32m~/anaconda3/lib/python3.10/site-packages/matplotlib/axes/_axes.py:7127\u001b[0m, in \u001b[0;36mAxes.hist2d\u001b[0;34m(self, x, y, bins, range, density, weights, cmin, cmax, **kwargs)\u001b[0m\n\u001b[1;32m   7034\u001b[0m \u001b[38;5;129m@_preprocess_data\u001b[39m(replace_names\u001b[38;5;241m=\u001b[39m[\u001b[38;5;124m\"\u001b[39m\u001b[38;5;124mx\u001b[39m\u001b[38;5;124m\"\u001b[39m, \u001b[38;5;124m\"\u001b[39m\u001b[38;5;124my\u001b[39m\u001b[38;5;124m\"\u001b[39m, \u001b[38;5;124m\"\u001b[39m\u001b[38;5;124mweights\u001b[39m\u001b[38;5;124m\"\u001b[39m])\n\u001b[1;32m   7035\u001b[0m \u001b[38;5;129m@_docstring\u001b[39m\u001b[38;5;241m.\u001b[39mdedent_interpd\n\u001b[1;32m   7036\u001b[0m \u001b[38;5;28;01mdef\u001b[39;00m \u001b[38;5;21mhist2d\u001b[39m(\u001b[38;5;28mself\u001b[39m, x, y, bins\u001b[38;5;241m=\u001b[39m\u001b[38;5;241m10\u001b[39m, \u001b[38;5;28mrange\u001b[39m\u001b[38;5;241m=\u001b[39m\u001b[38;5;28;01mNone\u001b[39;00m, density\u001b[38;5;241m=\u001b[39m\u001b[38;5;28;01mFalse\u001b[39;00m, weights\u001b[38;5;241m=\u001b[39m\u001b[38;5;28;01mNone\u001b[39;00m,\n\u001b[1;32m   7037\u001b[0m            cmin\u001b[38;5;241m=\u001b[39m\u001b[38;5;28;01mNone\u001b[39;00m, cmax\u001b[38;5;241m=\u001b[39m\u001b[38;5;28;01mNone\u001b[39;00m, \u001b[38;5;241m*\u001b[39m\u001b[38;5;241m*\u001b[39mkwargs):\n\u001b[1;32m   7038\u001b[0m \u001b[38;5;250m    \u001b[39m\u001b[38;5;124;03m\"\"\"\u001b[39;00m\n\u001b[1;32m   7039\u001b[0m \u001b[38;5;124;03m    Make a 2D histogram plot.\u001b[39;00m\n\u001b[1;32m   7040\u001b[0m \n\u001b[0;32m   (...)\u001b[0m\n\u001b[1;32m   7124\u001b[0m \u001b[38;5;124;03m      `.colors.PowerNorm`.\u001b[39;00m\n\u001b[1;32m   7125\u001b[0m \u001b[38;5;124;03m    \"\"\"\u001b[39;00m\n\u001b[0;32m-> 7127\u001b[0m     h, xedges, yedges \u001b[38;5;241m=\u001b[39m \u001b[43mnp\u001b[49m\u001b[38;5;241;43m.\u001b[39;49m\u001b[43mhistogram2d\u001b[49m\u001b[43m(\u001b[49m\u001b[43mx\u001b[49m\u001b[43m,\u001b[49m\u001b[43m \u001b[49m\u001b[43my\u001b[49m\u001b[43m,\u001b[49m\u001b[43m \u001b[49m\u001b[43mbins\u001b[49m\u001b[38;5;241;43m=\u001b[39;49m\u001b[43mbins\u001b[49m\u001b[43m,\u001b[49m\u001b[43m \u001b[49m\u001b[38;5;28;43mrange\u001b[39;49m\u001b[38;5;241;43m=\u001b[39;49m\u001b[38;5;28;43mrange\u001b[39;49m\u001b[43m,\u001b[49m\n\u001b[1;32m   7128\u001b[0m \u001b[43m                                       \u001b[49m\u001b[43mdensity\u001b[49m\u001b[38;5;241;43m=\u001b[39;49m\u001b[43mdensity\u001b[49m\u001b[43m,\u001b[49m\u001b[43m \u001b[49m\u001b[43mweights\u001b[49m\u001b[38;5;241;43m=\u001b[39;49m\u001b[43mweights\u001b[49m\u001b[43m)\u001b[49m\n\u001b[1;32m   7130\u001b[0m     \u001b[38;5;28;01mif\u001b[39;00m cmin \u001b[38;5;129;01mis\u001b[39;00m \u001b[38;5;129;01mnot\u001b[39;00m \u001b[38;5;28;01mNone\u001b[39;00m:\n\u001b[1;32m   7131\u001b[0m         h[h \u001b[38;5;241m<\u001b[39m cmin] \u001b[38;5;241m=\u001b[39m \u001b[38;5;28;01mNone\u001b[39;00m\n",
      "File \u001b[0;32m<__array_function__ internals>:180\u001b[0m, in \u001b[0;36mhistogram2d\u001b[0;34m(*args, **kwargs)\u001b[0m\n",
      "File \u001b[0;32m~/anaconda3/lib/python3.10/site-packages/numpy/lib/twodim_base.py:815\u001b[0m, in \u001b[0;36mhistogram2d\u001b[0;34m(x, y, bins, range, normed, weights, density)\u001b[0m\n\u001b[1;32m    812\u001b[0m \u001b[38;5;28;01mfrom\u001b[39;00m \u001b[38;5;21;01mnumpy\u001b[39;00m \u001b[38;5;28;01mimport\u001b[39;00m histogramdd\n\u001b[1;32m    814\u001b[0m \u001b[38;5;28;01mif\u001b[39;00m \u001b[38;5;28mlen\u001b[39m(x) \u001b[38;5;241m!=\u001b[39m \u001b[38;5;28mlen\u001b[39m(y):\n\u001b[0;32m--> 815\u001b[0m     \u001b[38;5;28;01mraise\u001b[39;00m \u001b[38;5;167;01mValueError\u001b[39;00m(\u001b[38;5;124m'\u001b[39m\u001b[38;5;124mx and y must have the same length.\u001b[39m\u001b[38;5;124m'\u001b[39m)\n\u001b[1;32m    817\u001b[0m \u001b[38;5;28;01mtry\u001b[39;00m:\n\u001b[1;32m    818\u001b[0m     N \u001b[38;5;241m=\u001b[39m \u001b[38;5;28mlen\u001b[39m(bins)\n",
      "\u001b[0;31mValueError\u001b[0m: x and y must have the same length."
     ]
    },
    {
     "data": {
      "image/png": "[encoded data removed]",
      "text/plain": [
       "<Figure size 1200x1200 with 8 Axes>"
      ]
     },
     "metadata": {},
     "output_type": "display_data"
    }
   ],
   "source": [
    "import matplotlib.pyplot as plt\n",
    "import numpy as np\n",
    "from matplotlib import colors\n",
    "\n",
    "#Create plots\n",
    "fig, ([ax0,ax1],[ax2,ax3],[ax4,ax5], [ax6,ax7]) = plt.subplots(4, 2, figsize=(12,12))\n",
    "#fig, ([ax0,ax1],[ax2,ax3]) = plt.subplots(2, 2)\n",
    "fig.supylabel('Number of Events')\n",
    "plt.figure(fig.number)\n",
    "plt.subplots_adjust(wspace=0.25)\n",
    "\n",
    "#Settings\n",
    "show_grid = True\n",
    "bin_num = 100 \n",
    "x_label = \"Time Difference (s)\"\n",
    "\n",
    "#Add grid\n",
    "ax0.grid(show_grid)\n",
    "ax0.set_axisbelow(True)\n",
    "ax1.grid(show_grid)\n",
    "ax1.set_axisbelow(True)\n",
    "ax2.grid(show_grid)\n",
    "ax2.set_axisbelow(True)\n",
    "ax3.grid(show_grid)\n",
    "ax3.set_axisbelow(True)\n",
    "ax4.grid(show_grid)\n",
    "ax4.set_axisbelow(True)\n",
    "ax5.grid(show_grid)\n",
    "ax5.set_axisbelow(True)\n",
    "ax6.grid(show_grid)\n",
    "ax6.set_axisbelow(True)\n",
    "ax7.grid(show_grid)\n",
    "ax7.set_axisbelow(True)\n",
    "\n",
    "\n",
    "\n",
    "# Plot data delta t \n",
    "plt.sca(ax0)\n",
    "ax0.set_title(\"Chn0(top)-Chn1(bottom) time differences\")\n",
    "ax0.set_xlabel(\"Delta T (ns)\")\n",
    "ax0.hist(TDiff_list, bins = bin_num, histtype='stepfilled' , color ='blue')\n",
    "plt.yscale('log')\n",
    "\n",
    "#Plot data delta E\n",
    "plt.sca(ax1)\n",
    "ax1.set_title(\"Chn0(top)-Chn1(bottom) energy differences\")\n",
    "ax1.set_xlabel(\"Delta E (ns)\")\n",
    "ax1.hist(EDiff_list, bins = bin_num, histtype='stepfilled' , color ='blue')\n",
    "plt.yscale('log')\n",
    "\n",
    "\n",
    "# plot delta T vs chan 0 energy \n",
    "plt.sca(ax2)\n",
    "ax2.set_title(\"Delta T vs Chn0 energy\")\n",
    "ax2.set_xlabel(\"Energy (ADC counts)\")\n",
    "ax2.set_ylabel(\"Deta T 9ns)\")\n",
    "ax2.hist2d(ECh0_list, TDiff_list, bins = bin_num, range=np.array([(0, 4000), (-30, 30)]),cmap = 'BuPu',norm = colors.LogNorm())\n",
    "#plt.yscale('log')\n",
    "#plt.xscale('log')\n",
    "\n",
    "\n",
    "# plot delta T vs chan 1 energy \n",
    "plt.sca(ax3)\n",
    "ax3.set_title(\"Delta T vs Chn1 energy\")\n",
    "ax3.set_xlabel(\"Energy (ADC counts)\")\n",
    "ax3.set_xlabel(\"Delta T (ns)\")\n",
    "ax3.hist2d(ECh1_list, TDiff_list, bins = bin_num, range=np.array([(0, 4000), (-30, 30)]),cmap = 'BuPu',norm = colors.LogNorm() )\n",
    "#plt.yscale('log')\n",
    "#plt.xscale('log')\n",
    "\n",
    "#plot energy specteum chn0\n",
    "plt.sca(ax4)\n",
    "ax4.set_title(\"Chn0 energy spectrum\")\n",
    "ax4.set_xlabel(\"Energy (ADC counts )\")\n",
    "ax4.hist(ECh0_list, bins = bin_num, range=[0, 4000], histtype='stepfilled' , color ='blue')\n",
    "#plt.yscale('log')\n",
    "\n",
    "#plot energy spectrum Chn1\n",
    "plt.sca(ax5)\n",
    "ax5.set_title(\"Chn1 energy spectrum\")\n",
    "ax5.set_xlabel(\"Energy (ADC counts )\")\n",
    "ax5.hist(ECh1_list, bins = bin_num,  range=[0, 4000], histtype='stepfilled' , color ='blue')\n",
    "#plt.yscale('log')\n",
    "\n",
    "\n",
    "# plot chan 0 vs chan 1 energy \n",
    "plt.sca(ax6)\n",
    "ax6.set_title(\"Chn0 energy vs Chn1 energy\")\n",
    "ax6.set_xlabel(\"Energy (ADC counts)\")\n",
    "ax6.set_ylabel(\"Energy (ADC counts)\")\n",
    "ax6.hist2d(ECh0_list,ECh1_list, bins = bin_num, range=np.array([(0, 4000), (0,4000)]),cmap = 'BuPu')\n",
    "#plt.yscale('log')\n",
    "#plt.xscale('log')\n",
    "\n",
    "# plot delat E vs delta T  \n",
    "plt.sca(ax7)\n",
    "ax7.set_title(\"Chn0 energy vs Chn1 energy\")\n",
    "ax7.set_xlabel(\"Energy (ADC counts)\")\n",
    "ax7.set_ylabel(\"Energy (ADC counts)\")\n",
    "ax7.hist2d(EDiff_list,TDiff_list, bins = bin_num, range=np.array([(-4000, 4000), (-30,30)]),cmap = 'BuPu', norm = colors.LogNorm())\n",
    "#plt.yscale('log')\n",
    "#plt.xscale('log')\n",
    "\n",
    "fig.tight_layout()\n",
    "\n",
    "plt.show()\n"
   ]
  },
  {
   "cell_type": "code",
   "execution_count": null,
   "id": "6f59f026",
   "metadata": {},
   "outputs": [],
   "source": [
    "import matplotlib.pyplot as plt\n",
    "import numpy as np\n",
    "from matplotlib import colors\n",
    "\n",
    "# plot:\n",
    "fig, ax = plt.subplots()\n",
    "\n",
    "ax.hist(TimeDiff_list, bins=100)\n",
    "\n",
    "\n",
    "plt.show()"
   ]
  },
  {
   "cell_type": "code",
   "execution_count": null,
   "id": "f32c2106",
   "metadata": {},
   "outputs": [],
   "source": []
  }
 ],
 "metadata": {
  "kernelspec": {
   "display_name": "Python 3 (ipykernel)",
   "language": "python",
   "name": "python3"
  },
  "language_info": {
   "codemirror_mode": {
    "name": "ipython",
    "version": 3
   },
   "file_extension": ".py",
   "mimetype": "text/x-python",
   "name": "python",
   "nbconvert_exporter": "python",
   "pygments_lexer": "ipython3",
   "version": "3.10.9"
  }
 },
 "nbformat": 4,
 "nbformat_minor": 5
}
