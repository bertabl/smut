{
 "cells": [
  {
   "cell_type": "code",
   "execution_count": 1,
   "id": "68049691",
   "metadata": {},
   "outputs": [
    {
     "name": "stdout",
     "output_type": "stream",
     "text": [
      "Welcome to JupyROOT 6.26/08\n"
     ]
    }
   ],
   "source": [
    "import ROOT\n",
    "from ROOT import gStyle"
   ]
  },
  {
   "cell_type": "code",
   "execution_count": 2,
   "id": "e24d9883",
   "metadata": {},
   "outputs": [],
   "source": [
    "myFile_20 = ROOT.TFile.Open(\"/Users/bertabeltran/muon_data/data/DShaped/DShapedHoles_SiPMV3_2Chn0_3Chn1_edge/FILTERED/HcompassF_DShapedHoles_SiPMV3_2Chn0_3Chn1_edge_20230829_164422.root\")"
   ]
  },
  {
   "cell_type": "code",
   "execution_count": 3,
   "id": "af0096ee",
   "metadata": {},
   "outputs": [
    {
     "name": "stdout",
     "output_type": "stream",
     "text": [
      "TFile**\t\t/Users/bertabeltran/muon_data/data/DShaped/DShapedHoles_SiPMV3_2Chn0_3Chn1_edge/FILTERED/HcompassF_DShapedHoles_SiPMV3_2Chn0_3Chn1_edge_20230829_164422.root\t\n",
      " TFile*\t\t/Users/bertabeltran/muon_data/data/DShaped/DShapedHoles_SiPMV3_2Chn0_3Chn1_edge/FILTERED/HcompassF_DShapedHoles_SiPMV3_2Chn0_3Chn1_edge_20230829_164422.root\t\n",
      "  KEY: TDirectoryFile\tEnergy;1\tEnergy\n",
      "  KEY: TDirectoryFile\tTime;1\tTime\n",
      "  KEY: TDirectoryFile\tPSD;1\tPSD\n",
      "  KEY: TDirectoryFile\tPSD_E;1\tPSD_E\n",
      "  KEY: TTime\tRealTime_0;1\tobject title\n",
      "  KEY: TTime\tLiveTime_0;1\tobject title\n",
      "  KEY: TTime\tRealTime_1;1\tobject title\n",
      "  KEY: TTime\tLiveTime_1;1\tobject title\n"
     ]
    }
   ],
   "source": [
    "myFile_20.ls()"
   ]
  },
  {
   "cell_type": "code",
   "execution_count": 4,
   "id": "4c91c249",
   "metadata": {},
   "outputs": [],
   "source": [
    "dir_20 = myFile_20.GetDirectory(\"Energy\");"
   ]
  },
  {
   "cell_type": "code",
   "execution_count": 5,
   "id": "acad7144",
   "metadata": {
    "scrolled": true
   },
   "outputs": [
    {
     "name": "stdout",
     "output_type": "stream",
     "text": [
      "TDirectoryFile*\t\tEnergy\tEnergy\n",
      " KEY: TH1D\t_F_EnergyCH0@DT5751_1615;1\t\n",
      " KEY: CalibrationCoefficient\tCalibration_0;1\tobject title\n",
      " KEY: TH1D\t_F_EnergyCH1@DT5751_1615;1\t\n",
      " KEY: CalibrationCoefficient\tCalibration_1;1\tobject title\n"
     ]
    }
   ],
   "source": [
    "dir_20.ls()"
   ]
  },
  {
   "cell_type": "code",
   "execution_count": 6,
   "id": "a7203bd9",
   "metadata": {},
   "outputs": [
    {
     "data": {
      "text/plain": [
       "<cppyy.gbl.TH1D object at 0x7fc1603ae160>"
      ]
     },
     "execution_count": 6,
     "metadata": {},
     "output_type": "execute_result"
    }
   ],
   "source": [
    "hist_20 = dir_20.Get(\"_F_EnergyCH0@DT5751_1615;1\")\n",
    "hist_20.Rebin(15)"
   ]
  },
  {
   "cell_type": "code",
   "execution_count": 7,
   "id": "c925de9a",
   "metadata": {},
   "outputs": [
    {
     "data": {
      "text/plain": [
       "<cppyy.gbl.TH1D object at 0x7fc1606e65d0>"
      ]
     },
     "execution_count": 7,
     "metadata": {},
     "output_type": "execute_result"
    }
   ],
   "source": [
    "hist_0 = dir_20.Get(\"_F_EnergyCH1@DT5751_1615\")\n",
    "hist_0.Rebin(15)"
   ]
  },
  {
   "cell_type": "code",
   "execution_count": 12,
   "id": "7c3f506d",
   "metadata": {},
   "outputs": [
    {
     "name": "stderr",
     "output_type": "stream",
     "text": [
      "Warning in <TCanvas::Constructor>: Deleting canvas with same name: myCanvasName\n",
      "Info in <TCanvas::Print>: png file /Users/bertabeltran/muon_data/data/DShaped/SiPM_Pos_comp.png has been created\n"
     ]
    },
    {
     "data": {
      "image/png": "[encoded data removed]",
      "text/plain": [
       "<IPython.core.display.Image object>"
      ]
     },
     "metadata": {},
     "output_type": "display_data"
    }
   ],
   "source": [
    "\n",
    "c = ROOT.TCanvas(\"myCanvasName\",\"Scintillator with waveshifting fibre\",800,600)\n",
    "\n",
    "\n",
    "hist_20.SetFillColor(0)\n",
    "#hist_bkg.GetYaxis().SetRangeUser(0, 0.05)#\n",
    "#hist_20.SetNormFactor(1)\n",
    "hist_20.Draw()\n",
    "hist_20.GetYaxis().SetTitleOffset(1.5) #1.2\n",
    "\n",
    "hist_0.SetLineColor(3)\n",
    "hist_0.SetFillColor(0)\n",
    "#hist_0.SetNormFactor(1)\n",
    "hist_0.Draw(\"same\")\n",
    "#c.SetLogy()\n",
    "gStyle.SetOptStat(0)\n",
    "\n",
    "leg = ROOT.TLegend(.5,.7,.9,.9)\n",
    "leg.AddEntry(hist_20,\"SiPM at center of Edge \",\"L\")\n",
    "leg.AddEntry(hist_0,\"SiPM at side of Edge\",\"L\")\n",
    "leg.Draw()\n",
    "\n",
    "tex=ROOT.TLatex(0.25,0.93,\"SiPM Position test 4\");\n",
    "tex.SetNDC();\n",
    "tex.SetTextSize(0.04);\n",
    "tex.Draw();\n",
    "\n",
    "c.Draw()\n",
    "c.SaveAs(\"/Users/bertabeltran/muon_data/data/DShaped/SiPM_Pos_comp.png\");"
   ]
  },
  {
   "cell_type": "code",
   "execution_count": null,
   "id": "73fd7303",
   "metadata": {},
   "outputs": [],
   "source": []
  }
 ],
 "metadata": {
  "kernelspec": {
   "display_name": "Python 3 (ipykernel)",
   "language": "python",
   "name": "python3"
  },
  "language_info": {
   "codemirror_mode": {
    "name": "ipython",
    "version": 3
   },
   "file_extension": ".py",
   "mimetype": "text/x-python",
   "name": "python",
   "nbconvert_exporter": "python",
   "pygments_lexer": "ipython3",
   "version": "3.10.9"
  }
 },
 "nbformat": 4,
 "nbformat_minor": 5
}
