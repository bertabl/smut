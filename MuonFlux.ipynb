{
 "cells": [
  {
   "cell_type": "code",
   "execution_count": 1,
   "id": "791da168",
   "metadata": {},
   "outputs": [
    {
     "name": "stdout",
     "output_type": "stream",
     "text": [
      "Collecting daemonflux\n",
      "  Downloading daemonflux-0.7.0-py3-none-any.whl (12 kB)\n",
      "Collecting rich\n",
      "  Downloading rich-13.5.3-py3-none-any.whl (239 kB)\n",
      "\u001b[2K     \u001b[90m━━━━━━━━━━━━━━━━━━━━━━━━━━━━━━━━━━━━━━━\u001b[0m \u001b[32m239.8/239.8 kB\u001b[0m \u001b[31m3.3 MB/s\u001b[0m eta \u001b[36m0:00:00\u001b[0ma \u001b[36m0:00:01\u001b[0m\n",
      "\u001b[?25hRequirement already satisfied: numpy in /Users/bertabeltran/anaconda3/lib/python3.10/site-packages (from daemonflux) (1.23.5)\n",
      "Requirement already satisfied: scipy>=1.8.0 in /Users/bertabeltran/anaconda3/lib/python3.10/site-packages (from daemonflux) (1.10.0)\n",
      "Collecting pygments<3.0.0,>=2.13.0\n",
      "  Downloading Pygments-2.16.1-py3-none-any.whl (1.2 MB)\n",
      "\u001b[2K     \u001b[90m━━━━━━━━━━━━━━━━━━━━━━━━━━━━━━━━━━━━━━━━\u001b[0m \u001b[32m1.2/1.2 MB\u001b[0m \u001b[31m12.0 MB/s\u001b[0m eta \u001b[36m0:00:00\u001b[0ma \u001b[36m0:00:01\u001b[0m\n",
      "\u001b[?25hCollecting markdown-it-py>=2.2.0\n",
      "  Downloading markdown_it_py-3.0.0-py3-none-any.whl (87 kB)\n",
      "\u001b[2K     \u001b[90m━━━━━━━━━━━━━━━━━━━━━━━━━━━━━━━━━━━━━━━━\u001b[0m \u001b[32m87.5/87.5 kB\u001b[0m \u001b[31m5.9 MB/s\u001b[0m eta \u001b[36m0:00:00\u001b[0m\n",
      "\u001b[?25hCollecting mdurl~=0.1\n",
      "  Downloading mdurl-0.1.2-py3-none-any.whl (10.0 kB)\n",
      "Installing collected packages: pygments, mdurl, markdown-it-py, rich, daemonflux\n",
      "  Attempting uninstall: pygments\n",
      "    Found existing installation: Pygments 2.11.2\n",
      "    Uninstalling Pygments-2.11.2:\n",
      "      Successfully uninstalled Pygments-2.11.2\n",
      "\u001b[31mERROR: pip's dependency resolver does not currently take into account all the packages that are installed. This behaviour is the source of the following dependency conflicts.\n",
      "spyder 5.4.1 requires pyqt5<5.16, which is not installed.\n",
      "spyder 5.4.1 requires pyqtwebengine<5.16, which is not installed.\u001b[0m\u001b[31m\n",
      "\u001b[0mSuccessfully installed daemonflux-0.7.0 markdown-it-py-3.0.0 mdurl-0.1.2 pygments-2.16.1 rich-13.5.3\n"
     ]
    }
   ],
   "source": [
    "!pip install daemonflux"
   ]
  },
  {
   "cell_type": "code",
   "execution_count": 2,
   "id": "8e074711",
   "metadata": {},
   "outputs": [],
   "source": [
    "import daemonflux\n",
    "import numpy as np"
   ]
  },
  {
   "cell_type": "code",
   "execution_count": 3,
   "id": "5ea9b527",
   "metadata": {},
   "outputs": [
    {
     "data": {
      "application/vnd.jupyter.widget-view+json": {
       "model_id": "",
       "version_major": 2,
       "version_minor": 0
      },
      "text/plain": [
       "Output()"
      ]
     },
     "metadata": {},
     "output_type": "display_data"
    },
    {
     "data": {
      "text/html": [
       "<pre style=\"white-space:pre;overflow-x:auto;line-height:normal;font-family:Menlo,'DejaVu Sans Mono',consolas,'Courier New',monospace\"></pre>\n"
      ],
      "text/plain": []
     },
     "metadata": {},
     "output_type": "display_data"
    },
    {
     "data": {
      "text/html": [
       "<pre style=\"white-space:pre;overflow-x:auto;line-height:normal;font-family:Menlo,'DejaVu Sans Mono',consolas,'Courier New',monospace\">\n",
       "</pre>\n"
      ],
      "text/plain": [
       "\n"
      ]
     },
     "metadata": {},
     "output_type": "display_data"
    },
    {
     "data": {
      "application/vnd.jupyter.widget-view+json": {
       "model_id": "",
       "version_major": 2,
       "version_minor": 0
      },
      "text/plain": [
       "Output()"
      ]
     },
     "metadata": {},
     "output_type": "display_data"
    },
    {
     "data": {
      "text/html": [
       "<pre style=\"white-space:pre;overflow-x:auto;line-height:normal;font-family:Menlo,'DejaVu Sans Mono',consolas,'Courier New',monospace\"></pre>\n"
      ],
      "text/plain": []
     },
     "metadata": {},
     "output_type": "display_data"
    },
    {
     "data": {
      "text/html": [
       "<pre style=\"white-space:pre;overflow-x:auto;line-height:normal;font-family:Menlo,'DejaVu Sans Mono',consolas,'Courier New',monospace\">\n",
       "</pre>\n"
      ],
      "text/plain": [
       "\n"
      ]
     },
     "metadata": {},
     "output_type": "display_data"
    }
   ],
   "source": [
    "myflux = daemonflux.Flux(location='generic')\n",
    "# daemonflux docs https://pypi.org/project/daemonflux/"
   ]
  },
  {
   "cell_type": "code",
   "execution_count": 4,
   "id": "78b17aed",
   "metadata": {},
   "outputs": [
    {
     "name": "stdout",
     "output_type": "stream",
     "text": [
      "Module area 399.56013844372524 cm2\n",
      "Muons per second: 5.848696003611632\n"
     ]
    }
   ],
   "source": [
    "zenith_angles = np.array(myflux.zenith_angles, dtype='double')\n",
    "coszen = np.cos(np.deg2rad(zenith_angles))\n",
    "coszen_step = coszen[0]-coszen[1]\n",
    "coszen_step\n",
    "\n",
    "# Important, daemonflux does not go below 100 MeV, computation has to start there\n",
    "e_grid = np.logspace(-1, 5, 10000) # This is in GeV\n",
    "energy_steps = e_grid[1:]-e_grid[:-1]\n",
    "\n",
    "livetime = 1 # 60 secs\n",
    "\n",
    "# In meters\n",
    "module_radius = 0.17\n",
    "circle_area = np.pi*module_radius**2\n",
    "area_removed = (0.032*2*module_radius)\n",
    "module_area = (circle_area-area_removed)/2 # Only doing one D\n",
    "module_area *= 1E4 # converting to cm2\n",
    "\n",
    "print('Module area', module_area, 'cm2')\n",
    "\n",
    "total_muons  = 0\n",
    "for angle in myflux.zenith_angles:\n",
    "    muon_flux = np.sum((myflux.flux(e_grid, angle ,quantity='muflux')/e_grid**3)[:-1]*energy_steps)\n",
    "    this_area = module_area*np.sin(np.pi/2-np.deg2rad(np.double(angle)))\n",
    "    #print(angle, this_area)\n",
    "    this_number = 2*np.pi*coszen_step*this_area*muon_flux\n",
    "    total_muons += this_number\n",
    "\n",
    "total_muons *= (livetime)\n",
    "print('Muons per second:', total_muons)"
   ]
  },
  {
   "cell_type": "code",
   "execution_count": null,
   "id": "ec9da09e",
   "metadata": {},
   "outputs": [],
   "source": []
  }
 ],
 "metadata": {
  "kernelspec": {
   "display_name": "Python 3 (ipykernel)",
   "language": "python",
   "name": "python3"
  },
  "language_info": {
   "codemirror_mode": {
    "name": "ipython",
    "version": 3
   },
   "file_extension": ".py",
   "mimetype": "text/x-python",
   "name": "python",
   "nbconvert_exporter": "python",
   "pygments_lexer": "ipython3",
   "version": "3.10.9"
  }
 },
 "nbformat": 4,
 "nbformat_minor": 5
}
