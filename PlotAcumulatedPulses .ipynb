{
 "cells": [
  {
   "cell_type": "code",
   "execution_count": 1,
   "id": "dcf55e13",
   "metadata": {},
   "outputs": [
    {
     "name": "stdout",
     "output_type": "stream",
     "text": [
      "8470 events\n"
     ]
    }
   ],
   "source": [
    "import uproot\n",
    "\n",
    "\n",
    "branches=uproot.open('/Users/bertabeltran/muon_data/data/DShaped/DShapedHole_SiPMV3_coin_2Ch0_3Ch1_5LSB_20fC_LSB_waves/FILTERED/DataF_DShapedHole_SiPMV3_coin_2Ch0_3Ch1_5LSB_20fC_LSB_waves.root')['Data_F'].arrays()\n",
    "nevt=len(branches)\n",
    "print(str(nevt)+\" events\")\n",
    "  \n"
   ]
  },
  {
   "cell_type": "code",
   "execution_count": 20,
   "id": "6faf572d",
   "metadata": {},
   "outputs": [
    {
     "data": {
      "image/png": "[encoded data removed]",
      "text/plain": [
       "<Figure size 640x480 with 1 Axes>"
      ]
     },
     "metadata": {},
     "output_type": "display_data"
    },
    {
     "name": "stdout",
     "output_type": "stream",
     "text": [
      "996\n"
     ]
    }
   ],
   "source": [
    "import matplotlib.pyplot as plt\n",
    "plt.plot(branches['Samples'][45],label=\"channel \"+str(branches['Channel'][0]))\n",
    "plt.ylabel('ADC channel')\n",
    "plt.xlabel('Time (ns)')\n",
    "plt.show()\n",
    "print(len(branches['Samples'][1]))"
   ]
  },
  {
   "cell_type": "code",
   "execution_count": 3,
   "id": "2b6360e8",
   "metadata": {},
   "outputs": [
    {
     "name": "stdout",
     "output_type": "stream",
     "text": [
      "======> EVENT:10\n",
      " Channel         = 0\n",
      " Timestamp       = 1446653928499\n",
      " Board           = 0\n",
      " Energy          = 1326\n",
      " EnergyShort     = 257\n",
      " Flags           = 16384\n",
      " Probe           = 1\n",
      " Samples         = (TArrayS*)0x7ff4be390710\n"
     ]
    }
   ],
   "source": [
    "import ROOT\n",
    "from ROOT import gStyle\n",
    "from ROOT import TH1D,TH2D,TFile,TTree,TCanvas,TPad\n",
    "gStyle.SetOptStat(0)\n",
    "fFile = TFile('/Users/bertabeltran/muon_data/data/DShaped/DShapedHole_SiPMV3_coin_2Ch0_3Ch1_5LSB_20fC_LSB_waves/FILTERED/DataF_DShapedHole_SiPMV3_coin_2Ch0_3Ch1_5LSB_20fC_LSB_waves.root', \"READ\") \n",
    "fTree = fFile.Get('Data_F')\n",
    "fTree.Show(10)"
   ]
  },
  {
   "cell_type": "code",
   "execution_count": null,
   "id": "89f60168",
   "metadata": {},
   "outputs": [],
   "source": [
    "\n",
    "\n",
    "nEntries = fTree.GetEntries()\n",
    "print('numer of events',nEntries)\n",
    "#declare variables that we are going to fill \n",
    "Samples[996]=0\n",
    "\n",
    "#loop over the three \n",
    "#for i in range(0, nEntries): \n",
    "for i in range(0, 100): \n",
    "    fTree.GetEntry(i) \n",
    "    Channel=fTree.Channel\n",
    "    Samples=fTree.Samples\n",
    "        Energy_even=fTree.Energy\n",
    "        if Channel_even==0:\n",
    "            ECh0_list.append(Energy_even)\n",
    "        else:\n",
    "            ECh1_list.append(Energy_even)\n",
    "    #if entry is odd we are the end of the event, store time and channel and calculate the time and energy difference \n",
    "    else:\n",
    "        Channel_odd=fTree.Channel\n",
    "        Timestamp_odd=fTree.Timestamp\n",
    "        Energy_odd=fTree.Energy\n",
    "        # I want to always do deltaT=chan0-Chan1 \n",
    "        if Channel_odd==0 :\n",
    "            TimeDiff=(Timestamp_odd-Timestamp_even)*10**(-3)#Convert picoseconds to nano\n",
    "            EnergyDiff=Energy_odd-Energy_even\n",
    "            ECh0_list.append(Energy_odd)\n",
    "        else:\n",
    "            TimeDiff=(Timestamp_even-Timestamp_odd)*10**(-3)\n",
    "            EnergyDiff=Energy_even-Energy_odd\n",
    "            ECh1_list.append(Energy_odd)           \n",
    "        EDiff_list.append(EnergyDiff)\n",
    "        TDiff_list.append(TimeDiff)"
   ]
  }
 ],
 "metadata": {
  "kernelspec": {
   "display_name": "Python 3 (ipykernel)",
   "language": "python",
   "name": "python3"
  },
  "language_info": {
   "codemirror_mode": {
    "name": "ipython",
    "version": 3
   },
   "file_extension": ".py",
   "mimetype": "text/x-python",
   "name": "python",
   "nbconvert_exporter": "python",
   "pygments_lexer": "ipython3",
   "version": "3.10.9"
  }
 },
 "nbformat": 4,
 "nbformat_minor": 5
}
