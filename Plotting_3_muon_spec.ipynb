{
 "cells": [
  {
   "cell_type": "code",
   "execution_count": 1,
   "id": "68049691",
   "metadata": {},
   "outputs": [
    {
     "name": "stdout",
     "output_type": "stream",
     "text": [
      "Welcome to JupyROOT 6.26/08\n"
     ]
    }
   ],
   "source": [
    "import ROOT\n",
    "from ROOT import gStyle"
   ]
  },
  {
   "cell_type": "code",
   "execution_count": 2,
   "id": "e24d9883",
   "metadata": {},
   "outputs": [],
   "source": [
    "myFile_1= ROOT.TFile.Open(\"/Users/bertabeltran/muon_data/data/June8_coin_CH1CH2BoardSwap2/FILTERED/HcompassF_June8_coin_CH1CH2BoardSwap2_20230609_092322.root\")"
   ]
  },
  {
   "cell_type": "code",
   "execution_count": 3,
   "id": "af0096ee",
   "metadata": {},
   "outputs": [
    {
     "name": "stdout",
     "output_type": "stream",
     "text": [
      "TFile**\t\t/Users/bertabeltran/muon_data/data/June8_coin_CH1CH2BoardSwap2/FILTERED/HcompassF_June8_coin_CH1CH2BoardSwap2_20230609_092322.root\t\n",
      " TFile*\t\t/Users/bertabeltran/muon_data/data/June8_coin_CH1CH2BoardSwap2/FILTERED/HcompassF_June8_coin_CH1CH2BoardSwap2_20230609_092322.root\t\n",
      "  KEY: TDirectoryFile\tEnergy;1\tEnergy\n",
      "  KEY: TDirectoryFile\tTime;1\tTime\n",
      "  KEY: TDirectoryFile\tPSD;1\tPSD\n",
      "  KEY: TDirectoryFile\tPSD_E;1\tPSD_E\n",
      "  KEY: TTime\tRealTime_0;1\tobject title\n",
      "  KEY: TTime\tLiveTime_0;1\tobject title\n",
      "  KEY: TTime\tRealTime_1;1\tobject title\n",
      "  KEY: TTime\tLiveTime_1;1\tobject title\n"
     ]
    }
   ],
   "source": [
    "myFile_1.ls()"
   ]
  },
  {
   "cell_type": "code",
   "execution_count": 4,
   "id": "4c91c249",
   "metadata": {},
   "outputs": [],
   "source": [
    "dir_1 = myFile_1.GetDirectory(\"Energy\");"
   ]
  },
  {
   "cell_type": "code",
   "execution_count": 5,
   "id": "acad7144",
   "metadata": {
    "scrolled": false
   },
   "outputs": [
    {
     "name": "stdout",
     "output_type": "stream",
     "text": [
      "TDirectoryFile*\t\tEnergy\tEnergy\n",
      " KEY: TH1D\t_F_EnergyCH0@DT5751_1615;1\t\n",
      " KEY: CalibrationCoefficient\tCalibration_0;1\tobject title\n",
      " KEY: TH1D\t_F_EnergyCH1@DT5751_1615;1\t\n",
      " KEY: CalibrationCoefficient\tCalibration_1;1\tobject title\n"
     ]
    }
   ],
   "source": [
    "dir_1.ls()"
   ]
  },
  {
   "cell_type": "code",
   "execution_count": 6,
   "id": "a7203bd9",
   "metadata": {},
   "outputs": [],
   "source": [
    "hist_1 = dir_1.Get(\"_F_EnergyCH1@DT5751_1615;1\")"
   ]
  },
  {
   "cell_type": "code",
   "execution_count": 7,
   "id": "f8c3bc5d",
   "metadata": {},
   "outputs": [
    {
     "name": "stdout",
     "output_type": "stream",
     "text": [
      "TDirectoryFile*\t\tEnergy\tEnergy\n",
      " KEY: TH1D\t_F_EnergyCH0@DT5751_1615;1\t\n",
      " KEY: CalibrationCoefficient\tCalibration_0;1\tobject title\n",
      " KEY: TH1D\t_F_EnergyCH1@DT5751_1615;1\t\n",
      " KEY: CalibrationCoefficient\tCalibration_1;1\tobject title\n"
     ]
    }
   ],
   "source": [
    "myFile_2 = ROOT.TFile.Open(\"/Users/bertabeltran/muon_data/data/June9_coin_CH0C_2_CH1B_0SiPMRightAgainst/FILTERED/HcompassF_June9_coin_CH0C_2_CH1B_0SiPMRightAgainst_20230612_122401.root\")\n",
    "dir_2 = myFile_2.GetDirectory(\"Energy\");\n",
    "dir_2.ls()\n",
    "hist_2 = dir_2.Get(\"_F_EnergyCH1@DT5751_1615\")"
   ]
  },
  {
   "cell_type": "code",
   "execution_count": 8,
   "id": "c925de9a",
   "metadata": {
    "scrolled": true
   },
   "outputs": [
    {
     "name": "stdout",
     "output_type": "stream",
     "text": [
      "TDirectoryFile*\t\tEnergy\tEnergy\n",
      " KEY: TH1D\t_F_EnergyCH0@DT5751_1615;1\t\n",
      " KEY: CalibrationCoefficient\tCalibration_0;1\tobject title\n",
      " KEY: TH1D\t_F_EnergyCH1@DT5751_1615;1\t\n",
      " KEY: CalibrationCoefficient\tCalibration_1;1\tobject title\n"
     ]
    }
   ],
   "source": [
    "myFile_3 = ROOT.TFile.Open(\"/Users/bertabeltran/muon_data/data/June13_coin_CH0C_2_CH1B_1/FILTERED/HcompassF_June13_coin_CH0C_2_CH1B_1_20230613_170442.root\")\n",
    "dir_3 = myFile_3.GetDirectory(\"Energy\");\n",
    "dir_3.ls()\n",
    "hist_3 = dir_3.Get(\"_F_EnergyCH1@DT5751_1615\")"
   ]
  },
  {
   "cell_type": "code",
   "execution_count": 9,
   "id": "7c3f506d",
   "metadata": {},
   "outputs": [
    {
     "name": "stderr",
     "output_type": "stream",
     "text": [
      "Info in <TCanvas::Print>: png file /Users/bertabeltran/muon_data/data/BoardB_three.png has been created\n"
     ]
    },
    {
     "data": {
      "image/png": "[encoded data removed]",
      "text/plain": [
       "<IPython.core.display.Image object>"
      ]
     },
     "metadata": {},
     "output_type": "display_data"
    }
   ],
   "source": [
    "\n",
    "c = ROOT.TCanvas(\"myCanvasName\",\"Scintillator with waveshifting fibre\",800,600)\n",
    "#hist_1.Rebin(4)\n",
    "#hist_coin.Rebin(4)\n",
    "hist_1.SetFillColor(0)\n",
    "#hist_1.GetYaxis().SetRangeUser(0, 0.05)\n",
    "hist_1.SetNormFactor(1)\n",
    "hist_1.Draw()\n",
    "hist_1.GetYaxis().SetTitleOffset(1.5) #1.2\n",
    "\n",
    "hist_2.SetLineColor(42)\n",
    "hist_2.SetFillColor(0)\n",
    "hist_2.SetNormFactor(1)\n",
    "hist_2.Draw(\"same\")\n",
    "\n",
    "hist_3.SetLineColor(8)\n",
    "hist_3.SetFillColor(0)\n",
    "hist_3.SetNormFactor(1)\n",
    "hist_3.Draw(\"same\")\n",
    "\n",
    "#c.SetLogy()\n",
    "gStyle.SetOptStat(0)\n",
    "\n",
    "leg = ROOT.TLegend(.1,.5,.3,.9)\n",
    "leg.AddEntry(hist_1,\"SiPM #1 \",\"L\")\n",
    "leg.AddEntry(hist_2,\"#splitline{SiPM #0}{right against}\",\"L\")\n",
    "leg.AddEntry(hist_3,\"#splitline{SiPM #1}{after rewrapping}\",\"L\")\n",
    "leg.Draw()\n",
    "\n",
    "tex=ROOT.TLatex(0.3,0.93,\"Board B, amplified signal\");\n",
    "tex.SetNDC();\n",
    "tex.SetTextSize(0.04);\n",
    "tex.Draw();\n",
    "\n",
    "c.Draw()\n",
    "c.SaveAs(\"/Users/bertabeltran/muon_data/data/BoardB_three.png\");"
   ]
  },
  {
   "cell_type": "code",
   "execution_count": null,
   "id": "73fd7303",
   "metadata": {},
   "outputs": [],
   "source": []
  }
 ],
 "metadata": {
  "kernelspec": {
   "display_name": "Python 3 (ipykernel)",
   "language": "python",
   "name": "python3"
  },
  "language_info": {
   "codemirror_mode": {
    "name": "ipython",
    "version": 3
   },
   "file_extension": ".py",
   "mimetype": "text/x-python",
   "name": "python",
   "nbconvert_exporter": "python",
   "pygments_lexer": "ipython3",
   "version": "3.10.9"
  }
 },
 "nbformat": 4,
 "nbformat_minor": 5
}
