{
 "cells": [
  {
   "cell_type": "code",
   "execution_count": 1,
   "metadata": {},
   "outputs": [],
   "source": [
    "#script writen by Chuck \n",
    "import uproot\n",
    "import numpy as np\n",
    "from matplotlib import pyplot as plt\n",
    "from os import path"
   ]
  },
  {
   "cell_type": "code",
   "execution_count": 2,
   "metadata": {},
   "outputs": [
    {
     "name": "stdout",
     "output_type": "stream",
     "text": [
      "['Channel', 'Timestamp', 'Board', 'Energy', 'EnergyShort', 'Flags']\n"
     ]
    }
   ],
   "source": [
    "#Open ROOT file\n",
    "file_path = \"/Users/bertabeltran/muon_data/data/DShaped/DShapedHolevsDShapedNoHole_coin_SiPMV1_2Ch0_0Ch1/FILTERED/SDataF_DShapedHolevsDShapedNoHole_coin_SiPMV1_2Ch0_0Ch1.root\"\n",
    "file=uproot.open(file_path)\n",
    "tree=file[\"Data_F\"]\n",
    "print(tree.keys())\n",
    "\n",
    "#Load data for channels and timestamps\n",
    "#timestamps = tree[\"Timestamp\"].array(library = \"np\")*10**(-3) #Convert picoseconds to nano\n",
    "timestamps = tree[\"Timestamp\"].array(library = \"np\") # picoseconds\n",
    "channel = tree[\"Channel\"].array(library = \"np\")\n",
    "energy = tree[\"Energy\"].array(library = \"np\")\n",
    "flags = tree[\"Flags\"].array(library = \"np\")"
   ]
  },
  {
   "cell_type": "code",
   "execution_count": 3,
   "metadata": {
    "scrolled": true
   },
   "outputs": [
    {
     "data": {
      "text/plain": [
       "array([     403377515952,      403377516936,      552654054827, ...,\n",
       "       16731467716705312, 16731560761697179, 16731560761697781],\n",
       "      dtype=uint64)"
      ]
     },
     "execution_count": 3,
     "metadata": {},
     "output_type": "execute_result"
    }
   ],
   "source": [
    "timestamps "
   ]
  },
  {
   "cell_type": "code",
   "execution_count": 4,
   "metadata": {},
   "outputs": [],
   "source": [
    "#Create masks for channels\n",
    "CH0_mask = channel == 0\n",
    "CH1_mask = channel == 1\n",
    "\n",
    "\n",
    "#Get timestamps for each channel\n",
    "CH0_timestamps = timestamps[CH0_mask]\n",
    "CH1_timestamps = timestamps[CH1_mask]\n",
    "\n",
    "\n",
    "#Calculate energy of events on each channel\n",
    "CH0_energy = energy[CH0_mask]\n",
    "CH1_energy = energy[CH1_mask]\n",
    "\n",
    "#Calculate time differences between events\n",
    "CH0_time_diff = np.diff(CH0_timestamps)\n",
    "CH1_time_diff = np.diff(CH1_timestamps)"
   ]
  },
  {
   "cell_type": "code",
   "execution_count": 5,
   "metadata": {
    "scrolled": false
   },
   "outputs": [
    {
     "data": {
      "text/plain": [
       "array([     403377516936,      552654055030,      552957576014, ...,\n",
       "       16731435049902694, 16731467716702124, 16731560761697179],\n",
       "      dtype=uint64)"
      ]
     },
     "execution_count": 5,
     "metadata": {},
     "output_type": "execute_result"
    }
   ],
   "source": [
    "CH0_timestamps"
   ]
  },
  {
   "cell_type": "code",
   "execution_count": 6,
   "metadata": {},
   "outputs": [
    {
     "data": {
      "text/plain": [
       "array([     403377515952,      552654054827,      552957574742, ...,\n",
       "       16731435049903718, 16731467716705312, 16731560761697781],\n",
       "      dtype=uint64)"
      ]
     },
     "execution_count": 6,
     "metadata": {},
     "output_type": "execute_result"
    }
   ],
   "source": [
    "CH1_timestamps"
   ]
  },
  {
   "cell_type": "code",
   "execution_count": 7,
   "metadata": {},
   "outputs": [
    {
     "data": {
      "text/plain": [
       "80080"
      ]
     },
     "execution_count": 7,
     "metadata": {},
     "output_type": "execute_result"
    }
   ],
   "source": [
    "len(CH0_timestamps)"
   ]
  },
  {
   "cell_type": "code",
   "execution_count": 8,
   "metadata": {},
   "outputs": [
    {
     "data": {
      "text/plain": [
       "80080"
      ]
     },
     "execution_count": 8,
     "metadata": {},
     "output_type": "execute_result"
    }
   ],
   "source": [
    "len(CH1_timestamps)"
   ]
  },
  {
   "cell_type": "code",
   "execution_count": 21,
   "metadata": {},
   "outputs": [
    {
     "data": {
      "text/plain": [
       "-602"
      ]
     },
     "execution_count": 21,
     "metadata": {},
     "output_type": "execute_result"
    }
   ],
   "source": [
    "16731560761697179-16731560761697781"
   ]
  },
  {
   "cell_type": "code",
   "execution_count": 9,
   "metadata": {},
   "outputs": [],
   "source": [
    "#Ch0ch1_time_diff = CH0_timestamps.astype(float)-CH1_timestamps.astype(float)\n",
    "Ch0ch1_time_diff = CH0_timestamps-CH1_timestamps"
   ]
  },
  {
   "cell_type": "code",
   "execution_count": 22,
   "metadata": {},
   "outputs": [
    {
     "data": {
      "text/plain": [
       "80080"
      ]
     },
     "execution_count": 22,
     "metadata": {},
     "output_type": "execute_result"
    }
   ],
   "source": [
    "len(Ch0ch1_time_diff)"
   ]
  },
  {
   "cell_type": "code",
   "execution_count": 23,
   "metadata": {},
   "outputs": [
    {
     "data": {
      "text/plain": [
       "array([                 984,                  203,                 1272,\n",
       "       ..., 18446744073709550592, 18446744073709548428,\n",
       "       18446744073709551014], dtype=uint64)"
      ]
     },
     "execution_count": 23,
     "metadata": {},
     "output_type": "execute_result"
    }
   ],
   "source": [
    "Ch0ch1_time_diff"
   ]
  },
  {
   "cell_type": "code",
   "execution_count": 12,
   "metadata": {},
   "outputs": [
    {
     "data": {
      "image/png": "[encoded data removed]",
      "text/plain": [
       "<Figure size 900x300 with 2 Axes>"
      ]
     },
     "metadata": {},
     "output_type": "display_data"
    }
   ],
   "source": [
    "#Create plots\n",
    "fig, (ax0,ax1) = plt.subplots(1, 2, figsize=(9,3))\n",
    "fig.supylabel('Number of Events')\n",
    "plt.figure(fig.number)\n",
    "plt.subplots_adjust(wspace=0.25)\n",
    "\n",
    "#Settings\n",
    "show_grid = True\n",
    "bin_num = 100 \n",
    "x_label = \"Time Difference (s)\"\n",
    "\n",
    "#Add grid\n",
    "ax0.grid(show_grid)\n",
    "ax0.set_axisbelow(True)\n",
    "ax1.grid(show_grid)\n",
    "ax1.set_axisbelow(True)\n",
    "\n",
    "\n",
    "# Plot data for channel 0\n",
    "plt.sca(ax0)\n",
    "ax0.set_title(\"CH0 Event \\nTime Differences\")\n",
    "ax0.set_xlabel(x_label)\n",
    "ax0.hist(CH0_time_diff, bins = bin_num, histtype='stepfilled' , color ='blue')\n",
    "plt.yscale('log')\n",
    "\n",
    "#Plot data for channel 1\n",
    "plt.sca(ax1)\n",
    "ax1.set_title(\"CH1 Event \\nTime Differences\")\n",
    "ax1.set_xlabel(x_label)\n",
    "ax1.hist(CH1_time_diff, bins = bin_num, histtype='stepfilled' , color ='orange')\n",
    "plt.yscale('log')\n",
    "\n",
    "\n",
    "plt.show()\n"
   ]
  },
  {
   "cell_type": "code",
   "execution_count": 13,
   "metadata": {},
   "outputs": [
    {
     "data": {
      "image/png": "[encoded data removed]",
      "text/plain": [
       "<Figure size 640x480 with 1 Axes>"
      ]
     },
     "metadata": {},
     "output_type": "display_data"
    }
   ],
   "source": [
    "plt.hist(Ch0ch1_time_diff, bins=100)\n",
    "plt.yscale('log')\n",
    "#fig.suptitle('test title')\n",
    "plt.xlabel('Chn0-Chn1 delta T (ns)')\n",
    "plt.ylabel('Number of events')\n",
    "fig.savefig('/Users/bertabeltran/muon_data/data/DShaped/deltaT.png')\n",
    "plt.show()"
   ]
  },
  {
   "cell_type": "code",
   "execution_count": 14,
   "metadata": {},
   "outputs": [],
   "source": [
    "#Create energy plots\n",
    "\n",
    "#Create mask for events with time difference greater than 10s\n",
    "CH0_energy_mask = CH0_time_diff>10\n",
    "CH1_energy_mask = CH1_time_diff>10\n",
    "\n",
    "#Remove last event from energies so that mask works\n",
    "Energy_len = len(CH0_energy)\n",
    "CH0_energy = CH0_energy[0:Energy_len-1]\n",
    "CH1_energy = CH1_energy[0:Energy_len-1]\n",
    "\n",
    "CH0_culled_energies = CH0_energy[CH0_energy_mask]\n",
    "CH1_culled_energies = CH1_energy[CH1_energy_mask]\n",
    "\n"
   ]
  },
  {
   "cell_type": "code",
   "execution_count": 15,
   "metadata": {},
   "outputs": [
    {
     "data": {
      "image/png": "[encoded data removed]",
      "text/plain": [
       "<Figure size 900x300 with 2 Axes>"
      ]
     },
     "metadata": {},
     "output_type": "display_data"
    }
   ],
   "source": [
    "#Create plots\n",
    "fig2, (ax2, ax3) = plt.subplots(1, 2, figsize=(9,3))\n",
    "fig2.supylabel('Number of Events')\n",
    "plt.figure(fig2.number)\n",
    "plt.subplots_adjust(wspace=0.25)\n",
    "\n",
    "#Settings\n",
    "show_grid = True\n",
    "bin_num = 50\n",
    "x_label = \"Energy (ADC Channel)\"\n",
    "\n",
    "#Add grid\n",
    "ax2.grid(show_grid)\n",
    "ax2.set_axisbelow(True)\n",
    "ax3.grid(show_grid)\n",
    "ax3.set_axisbelow(True)\n",
    "\n",
    "\n",
    "# Plot data for channel 0\n",
    "plt.sca(ax2)\n",
    "ax2.set_title(\"CH0 Event Energy\")\n",
    "ax2.set_xlabel(x_label)\n",
    "ax2.hist(CH0_energy, bins = bin_num, color ='blue')\n",
    "plt.yscale('log')\n",
    "\n",
    "#Plot data for channel 1\n",
    "plt.sca(ax3)\n",
    "ax3.set_title(\"CH1 Event Energy\")\n",
    "ax3.set_xlabel(x_label)\n",
    "ax3.hist(CH1_energy, bins = bin_num, color ='orange')\n",
    "plt.yscale('log')\n",
    "\n",
    "plt.show()"
   ]
  },
  {
   "cell_type": "code",
   "execution_count": null,
   "metadata": {},
   "outputs": [],
   "source": []
  }
 ],
 "metadata": {
  "kernelspec": {
   "display_name": "Python 3 (ipykernel)",
   "language": "python",
   "name": "python3"
  },
  "language_info": {
   "codemirror_mode": {
    "name": "ipython",
    "version": 3
   },
   "file_extension": ".py",
   "mimetype": "text/x-python",
   "name": "python",
   "nbconvert_exporter": "python",
   "pygments_lexer": "ipython3",
   "version": "3.10.9"
  }
 },
 "nbformat": 4,
 "nbformat_minor": 2
}
